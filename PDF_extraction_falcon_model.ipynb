{
  "nbformat": 4,
  "nbformat_minor": 0,
  "metadata": {
    "colab": {
      "provenance": [],
      "gpuType": "T4",
      "authorship_tag": "ABX9TyMZAxRJba6BhTfuFxxViWbU",
      "include_colab_link": true
    },
    "kernelspec": {
      "name": "python3",
      "display_name": "Python 3"
    },
    "language_info": {
      "name": "python"
    },
    "accelerator": "GPU"
  },
  "cells": [
    {
      "cell_type": "markdown",
      "metadata": {
        "id": "view-in-github",
        "colab_type": "text"
      },
      "source": [
        "<a href=\"https://colab.research.google.com/github/Ishikaaa/PDF-extraction/blob/main/PDF_extraction_falcon_model.ipynb\" target=\"_parent\"><img src=\"https://colab.research.google.com/assets/colab-badge.svg\" alt=\"Open In Colab\"/></a>"
      ]
    },
    {
      "cell_type": "code",
      "execution_count": null,
      "metadata": {
        "id": "MhIGZm0lc0mw"
      },
      "outputs": [],
      "source": [
        "# install libraries\n",
        "!pip install PyPDF2\n",
        "!pip install langchain\n",
        "!pip install InstructorEmbedding\n",
        "!pip install sentence-transformers==2.2.2\n",
        "!pip install faiss-gpu\n",
        "!pip install -U langchain-community"
      ]
    },
    {
      "cell_type": "code",
      "source": [
        "# import libraries\n",
        "from PyPDF2 import PdfReader\n",
        "from langchain.text_splitter import CharacterTextSplitter\n",
        "from langchain.embeddings import HuggingFaceInstructEmbeddings\n",
        "from langchain_community.vectorstores import FAISS\n",
        "\n",
        "from langchain.chains import RetrievalQA\n",
        "from langchain.llms import HuggingFaceHub\n",
        "import re\n",
        "import os\n",
        "import time"
      ],
      "metadata": {
        "id": "37Xxf732dQ6X"
      },
      "execution_count": null,
      "outputs": []
    },
    {
      "cell_type": "code",
      "source": [
        "# Step-1: get text from single OR multiple PDFs\n",
        "def get_pdf_text(pdf_docs):\n",
        "    \"\"\"\n",
        "    args:\n",
        "        pdf_docs: list of pdfs\n",
        "    \"\"\"\n",
        "    text = \"\"\n",
        "\n",
        "    # iterate through all pdfs\n",
        "    for pdf in pdf_docs:\n",
        "        pdf_reader = PdfReader(pdf)\n",
        "        # iterate through all pages\n",
        "        for page in pdf_reader.pages:\n",
        "            text += page.extract_text()\n",
        "\n",
        "    return text\n",
        "\n",
        "\n",
        "# Step-2: get the text chunks\n",
        "def get_text_chunks(text):\n",
        "    \"\"\"\n",
        "    : return\n",
        "        a list of chunks of text that we will feed to our model\n",
        "    \"\"\"\n",
        "\n",
        "    text_splitter = CharacterTextSplitter(\n",
        "        separator=\"\\n\",\n",
        "        chunk_size=1000,\n",
        "        chunk_overlap=200,\n",
        "        length_function=len,\n",
        "    )\n",
        "    chunks = text_splitter.split_text(text)\n",
        "    return chunks\n",
        "\n",
        "\n",
        "# Step-3: Text Embedding and Create Vector store\n",
        "def get_vectorstore(text_chunks):\n",
        "    embeddings = HuggingFaceInstructEmbeddings(model_name=\"hkunlp/instructor-xl\")\n",
        "    vectorstore = FAISS.from_texts(texts=text_chunks, embedding=embeddings)\n",
        "    return embeddings, vectorstore\n",
        "\n",
        "\n",
        "# Step-4: Train the model\n",
        "def retrieval_qa_chain(db, return_source_documents):\n",
        "    llm = HuggingFaceHub(repo_id=\"tiiuae/falcon-7b-instruct\", model_kwargs={\"temperature\": 0.2, \"max_length\": 500, \"max_new_tokens\": 700})\n",
        "    qa_chain = RetrievalQA.from_chain_type(llm=llm,\n",
        "                                           chain_type='stuff',\n",
        "                                           retriever=db,\n",
        "                                           return_source_documents=return_source_documents,\n",
        "                                           )\n",
        "    return qa_chain\n"
      ],
      "metadata": {
        "id": "X9ad-eqoeEVK"
      },
      "execution_count": null,
      "outputs": []
    },
    {
      "cell_type": "code",
      "source": [
        "if __name__ == \"__main__\":\n",
        "    os.environ[\"HUGGINGFACEHUB_API_TOKEN\"] = \"<Hugging_face_API_token>\"\n",
        "\n",
        "    ## Step-1 Load PDF\n",
        "    pdf_docs = [\"HPOODataSheet.pdf\"]\n",
        "    raw_text = get_pdf_text(pdf_docs)\n",
        "\n",
        "    ## Step-2: get the text chunks\n",
        "    text_chunks = get_text_chunks(clean_text)\n",
        "\n",
        "    ## Step-3\n",
        "    embeddings, vector_store = get_vectorstore(text_chunks)\n",
        "\n",
        "    ## Step-4\n",
        "    db = vector_store.as_retriever(search_kwargs={'k': 3})\n",
        "    bot = retrieval_qa_chain(db, True)"
      ],
      "metadata": {
        "id": "1QZXSn_leVMN"
      },
      "execution_count": null,
      "outputs": []
    },
    {
      "cell_type": "code",
      "source": [
        "## Step-5\n",
        "while True:\n",
        "    query = input(\"Please enter your response (type 'quit' to exit): \")\n",
        "    if query.lower() == 'quit':\n",
        "        print(\"Goodbye!\")\n",
        "        break\n",
        "    else:\n",
        "        start_time = time.time()\n",
        "        sol = bot(query)\n",
        "        end_time = time.time()\n",
        "        answer = sol[\"result\"].split('\\nHelpful Answer:')[-1].strip()\n",
        "        print(\"Question: \", query)\n",
        "        print(\"Answer: \", answer)\n",
        "        print(\"Time: \", end_time - start_time)\n",
        "        print(\"**************************\")"
      ],
      "metadata": {
        "colab": {
          "base_uri": "https://localhost:8080/"
        },
        "id": "ZwjekaVrgXDC",
        "outputId": "ab7b2dc7-4eed-4fd1-c64d-e93b462df072"
      },
      "execution_count": null,
      "outputs": [
        {
          "output_type": "stream",
          "name": "stdout",
          "text": [
            "Please enter your response (type 'quit' to exit): What are the Networking of HP OO?\n",
            "Question:  What are the Networking of HP OO?\n",
            "Answer:  HP OO is a suite of products that provides a unified platform for managing and automating IT operations. It includes HP OO Studio, HP OO Operations Orchestration, HP OO Service Desk, HP OO Service Level Management, HP OO Change Management, HP OO Incident Management, HP OO Service Management, HP OO Service Automation, HP OO Service Orchestration, HP OO Service Management, HP OO Service Desk, HP OO Service Level Management, HP OO Change Management, HP OO Incident Management, HP OO Service Management, HP OO Service Orchestration, HP OO Service Automation, HP OO Service Management, HP OO Service Desk, HP OO Service Level Management, HP OO Service Management, HP OO Service Orchestration, HP OO Service Automation, HP OO Service Orchestration, HP OO Service Management, HP OO Service Desk, HP OO Service Level Management, HP OO Service Management, HP OO Service Orchestration, HP OO Service Automation, HP OO Service Desk, HP OO Service Management, HP OO Service Orchestration, HP OO Service Management, HP OO Service Desk, HP OO Service Management, HP OO Service Orchestration, HP OO Service Management, HP OO Service Orchestration, HP OO Service Management, HP OO Service Desk, HP OO Service Management, HP OO Service Desk, HP OO Service Management, HP OO Service Desk, HP OO Service Management, HP OO Service Desk, HP OO Service Management, HP OO Service Desk, HP OO Service Management, HP OO Service Desk, HP OO Service Management, HP OO Service Desk, HP OO Service Management, HP OO Service Desk, HP OO Service Desk, HP OO Service Desk, HP OO Service Desk, HP OO Service Desk, HP OO Service Desk, HP OO Service Desk, HP OO Service Desk, HP OO Service Desk, HP OO Service Desk, HP OO Service Desk, HP OO Service Desk, HP OO Service Desk, HP OO Service Desk, HP OO Service Desk, HP OO Service Desk, HP OO Service Desk, HP OO Service Desk, HP OO Service Desk, HP OO Service Desk, HP OO Service Desk, HP OO Service Desk, HP OO Service Desk, HP OO Service Desk, HP OO Service Desk, HP OO Service Desk, HP OO Service Desk, HP OO Service Desk, HP OO Service Desk, HP OO Service Desk, HP OO Service Desk, HP OO Service Desk, HP OO Service Desk, HP OO Service Desk, HP OO Service Desk, HP OO Service Desk, HP OO Service Desk, HP OO Service Desk, HP OO Service Desk, HP OO Service Desk, HP OO Service Desk, HP OO Service Desk, HP OO Service Desk, HP OO Service Desk, HP OO Service Desk, HP OO Service Desk, HP OO Service Desk, HP OO Service Desk, HP OO Service Desk, HP OO Service Desk, HP OO Service Desk, HP OO Service Desk, HP OO Service Desk, HP OO Service Desk, HP OO Service Desk, HP OO Service Desk, HP OO Service Desk\n",
            "Time:  0.1430196762084961\n",
            "**************************\n",
            "Please enter your response (type 'quit' to exit): What are databases in HP OO?\n",
            "Question:  What are databases in HP OO?\n",
            "Answer:  HP OO provides a range of databases that can be used to store and manage data in the application. These databases include Oracle, MySQL, and PostgreSQL.\n",
            "Time:  1.4289109706878662\n",
            "**************************\n",
            "Please enter your response (type 'quit' to exit): What are the operating systems of HP OO?\n",
            "Question:  What are the operating systems of HP OO?\n",
            "Answer:  HP OO supports a wide range of operating systems, including Microsoft Windows, Red Hat/SUSE Linux, Solaris, and FreeBSD.\n",
            "Time:  1.256798505783081\n",
            "**************************\n",
            "Please enter your response (type 'quit' to exit): What are the Key benefits of HP Operations Orchestration?\n",
            "Question:  What are the Key benefits of HP Operations Orchestration?\n",
            "Answer:  HP Operations Orchestration offers many benefits, including:\n",
            "\n",
            "1. Automating manual, repetitive, and error-prone tasks so it staff can focus on strategic initiatives.\n",
            "2. Reducing escalations and mean time to repair (mttr) by automating event and incident triage, diagnosis, and resolution.\n",
            "3. Coordinated change and tasks across siloed systems and teams.\n",
            "4. Out-of-the-box content for immediate value.\n",
            "5. Comprehensive coverage of integration adapters for systems management products.\n",
            "6. Built-in roi (return on investment) calculator to define, compute, and report the benefits of executing flows.\n",
            "7. HP OO Studio to specify roi for each flow.\n",
            "8. HP OO Central to report the cumulative roi from executing the workflow in the production environment.\n",
            "Time:  5.693994760513306\n",
            "**************************\n",
            "Please enter your response (type 'quit' to exit): quit\n",
            "Goodbye!\n"
          ]
        }
      ]
    }
  ]
}
